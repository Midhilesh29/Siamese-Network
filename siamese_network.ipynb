{
 "cells": [
  {
   "cell_type": "markdown",
   "metadata": {
    "colab_type": "text",
    "id": "biVuQOVT-VB0"
   },
   "source": [
    "**Practically understanding  Siamese Network**"
   ]
  },
  {
   "cell_type": "code",
   "execution_count": 1,
   "metadata": {
    "colab": {
     "base_uri": "https://localhost:8080/",
     "height": 34
    },
    "colab_type": "code",
    "id": "QJWTZlIZbyGs",
    "outputId": "ab8cd63c-222b-4917-bd8a-f219df77bbdd"
   },
   "outputs": [
    {
     "name": "stderr",
     "output_type": "stream",
     "text": [
      "Using TensorFlow backend.\n"
     ]
    }
   ],
   "source": [
    "from keras.datasets import mnist\n",
    "from keras.models import Model\n",
    "from keras.layers import Input,Flatten,Dense,Lambda,Dropout,Conv2D,MaxPool2D\n",
    "from keras.optimizers import RMSprop\n",
    "from keras import backend as K\n",
    "import numpy as np\n",
    "import random"
   ]
  },
  {
   "cell_type": "code",
   "execution_count": 0,
   "metadata": {
    "colab": {},
    "colab_type": "code",
    "id": "5a-9eGH6czqp"
   },
   "outputs": [],
   "source": [
    "num_classes=10\n",
    "epochs=20"
   ]
  },
  {
   "cell_type": "code",
   "execution_count": 0,
   "metadata": {
    "colab": {},
    "colab_type": "code",
    "id": "ud54cjYpc48I"
   },
   "outputs": [],
   "source": [
    "def euclidean_distance(vects):\n",
    "    x, y = vects\n",
    "    sum_square = K.sum(K.square(x - y), axis=1, keepdims=True)\n",
    "    return K.sqrt(K.maximum(sum_square, K.epsilon()))"
   ]
  },
  {
   "cell_type": "code",
   "execution_count": 0,
   "metadata": {
    "colab": {},
    "colab_type": "code",
    "id": "ZR3kj5O8dM3z"
   },
   "outputs": [],
   "source": [
    "def contrastive_loss(y_true, y_pred):\n",
    "    '''\n",
    "    loss function to group similar classes together and dissimilar far away\n",
    "    '''\n",
    "    margin = 1\n",
    "    sqaure_pred = K.square(y_pred)\n",
    "    margin_square = K.square(K.maximum(margin - y_pred, 0))\n",
    "    return K.mean(y_true * sqaure_pred + (1 - y_true) * margin_square)\n"
   ]
  },
  {
   "cell_type": "code",
   "execution_count": 0,
   "metadata": {
    "colab": {},
    "colab_type": "code",
    "id": "_6AR7KGEdQom"
   },
   "outputs": [],
   "source": [
    "def create_pairs(x, digit_indices):\n",
    "    '''\n",
    "    Creating the pair of inputs such that each pair containes two same class images \n",
    "    and two different class images\n",
    "    '''\n",
    "    pairs = []\n",
    "    labels = []\n",
    "    n = min([len(digit_indices[d]) for d in range(num_classes)]) - 1\n",
    "    for d in range(num_classes):\n",
    "        for i in range(n):\n",
    "            z1, z2 = digit_indices[d][i], digit_indices[d][i + 1]\n",
    "            pairs += [[x[z1], x[z2]]]\n",
    "            inc = random.randrange(1, num_classes)\n",
    "            dn = (d + inc) % num_classes\n",
    "            z1, z2 = digit_indices[d][i], digit_indices[dn][i]\n",
    "            pairs += [[x[z1], x[z2]]]\n",
    "            labels += [1, 0]\n",
    "    return np.array(pairs), np.array(labels)"
   ]
  },
  {
   "cell_type": "code",
   "execution_count": 7,
   "metadata": {
    "colab": {
     "base_uri": "https://localhost:8080/",
     "height": 50
    },
    "colab_type": "code",
    "id": "-Sxxx_PHdYGy",
    "outputId": "2805de54-8de6-447b-c689-f6272524da4d"
   },
   "outputs": [
    {
     "name": "stdout",
     "output_type": "stream",
     "text": [
      "Downloading data from https://s3.amazonaws.com/img-datasets/mnist.npz\n",
      "11493376/11490434 [==============================] - 2s 0us/step\n"
     ]
    }
   ],
   "source": [
    "(x_train, y_train), (x_test, y_test) = mnist.load_data()\n",
    "x_train = x_train.reshape(-1,28,28,1).astype('float32')\n",
    "x_test = x_test.reshape(-1,28,28,1).astype('float32')\n",
    "'''\n",
    "normalizing the data by dividing the maximimum value\n",
    "'''\n",
    "x_train /= 255\n",
    "x_test /= 255\n",
    "input_shape = x_train.shape[1:]"
   ]
  },
  {
   "cell_type": "code",
   "execution_count": 8,
   "metadata": {
    "colab": {
     "base_uri": "https://localhost:8080/",
     "height": 185
    },
    "colab_type": "code",
    "id": "kTT-kmNthVuf",
    "outputId": "35521dcc-9ab0-4549-93a1-4d6fec3e7580"
   },
   "outputs": [
    {
     "data": {
      "text/plain": [
       "[array([    1,    21,    34, ..., 59952, 59972, 59987]),\n",
       " array([    3,     6,     8, ..., 59979, 59984, 59994]),\n",
       " array([    5,    16,    25, ..., 59983, 59985, 59991]),\n",
       " array([    7,    10,    12, ..., 59978, 59980, 59996]),\n",
       " array([    2,     9,    20, ..., 59943, 59951, 59975]),\n",
       " array([    0,    11,    35, ..., 59968, 59993, 59997]),\n",
       " array([   13,    18,    32, ..., 59982, 59986, 59998]),\n",
       " array([   15,    29,    38, ..., 59963, 59977, 59988]),\n",
       " array([   17,    31,    41, ..., 59989, 59995, 59999]),\n",
       " array([    4,    19,    22, ..., 59973, 59990, 59992])]"
      ]
     },
     "execution_count": 8,
     "metadata": {
      "tags": []
     },
     "output_type": "execute_result"
    }
   ],
   "source": [
    "digit_indices = [np.where(y_train == i)[0] for i in range(num_classes)]\n",
    "tr_pairs, tr_y = create_pairs(x_train, digit_indices)\n",
    "digit_indices"
   ]
  },
  {
   "cell_type": "code",
   "execution_count": 0,
   "metadata": {
    "colab": {},
    "colab_type": "code",
    "id": "IN2xAeO-mA60"
   },
   "outputs": [],
   "source": [
    "digit_indices = [np.where(y_test == i)[0] for i in range(num_classes)]\n",
    "te_pairs, te_y = create_pairs(x_test, digit_indices)\n"
   ]
  },
  {
   "cell_type": "code",
   "execution_count": 0,
   "metadata": {
    "colab": {},
    "colab_type": "code",
    "id": "gmRdMB2tiW7x"
   },
   "outputs": [],
   "source": [
    "def create_base_network(input_shape):\n",
    "    '''\n",
    "    creating the CNN network that will be shared by two inputs\n",
    "    '''\n",
    "    input = Input(shape=input_shape)\n",
    "    conv1=Conv2D(filters=32,kernel_size=(3,3),input_shape=(28,28),activation='relu')(input)\n",
    "    maxpool1=MaxPool2D(pool_size=(2,2))(conv1)\n",
    "    conv2=Conv2D(filters=64,kernel_size=(3,3),activation='relu')(maxpool1)\n",
    "    maxpool2=MaxPool2D(pool_size=(2,2))(conv2)\n",
    "    x = Flatten()(maxpool2)\n",
    "    x = Dense(128, activation='relu')(x)\n",
    "    x = Dropout(0.1)(x)\n",
    "    x = Dense(128, activation='relu')(x)\n",
    "    x = Dropout(0.1)(x)\n",
    "    x = Dense(128, activation='relu')(x)\n",
    "    return Model(input, x)"
   ]
  },
  {
   "cell_type": "code",
   "execution_count": 0,
   "metadata": {
    "colab": {},
    "colab_type": "code",
    "id": "i4vgLsZqlRot"
   },
   "outputs": [],
   "source": [
    "def eucl_dist_output_shape(shapes):\n",
    "    '''\n",
    "    determine the shape of output from the siamese network\n",
    "    '''\n",
    "    shape1, shape2 = shapes\n",
    "    return (shape1[0], 1)"
   ]
  },
  {
   "cell_type": "code",
   "execution_count": 0,
   "metadata": {
    "colab": {},
    "colab_type": "code",
    "id": "2kijcdh2if4h"
   },
   "outputs": [],
   "source": [
    "def compute_accuracy(y_true, y_pred):\n",
    "    '''Compute classification accuracy with a fixed threshold on distances.\n",
    "    '''\n",
    "    pred = y_pred.ravel() < 0.5\n",
    "    return np.mean(pred == y_true)\n"
   ]
  },
  {
   "cell_type": "code",
   "execution_count": 0,
   "metadata": {
    "colab": {},
    "colab_type": "code",
    "id": "aj19CdpakXMn"
   },
   "outputs": [],
   "source": [
    "def accuracy(y_true, y_pred):\n",
    "    '''Compute classification accuracy with a fixed threshold on distances.\n",
    "    '''\n",
    "    return K.mean(K.equal(y_true, K.cast(y_pred < 0.5, y_true.dtype)))\n"
   ]
  },
  {
   "cell_type": "code",
   "execution_count": 14,
   "metadata": {
    "colab": {
     "base_uri": "https://localhost:8080/",
     "height": 272
    },
    "colab_type": "code",
    "id": "crIM7PZhk2WF",
    "outputId": "1dd6fd50-76e6-4c12-abf1-689e15034a9c"
   },
   "outputs": [
    {
     "name": "stderr",
     "output_type": "stream",
     "text": [
      "WARNING: Logging before flag parsing goes to stderr.\n",
      "W0801 05:54:48.269037 140343816329088 deprecation_wrapper.py:119] From /usr/local/lib/python3.6/dist-packages/keras/backend/tensorflow_backend.py:74: The name tf.get_default_graph is deprecated. Please use tf.compat.v1.get_default_graph instead.\n",
      "\n",
      "W0801 05:54:48.319283 140343816329088 deprecation_wrapper.py:119] From /usr/local/lib/python3.6/dist-packages/keras/backend/tensorflow_backend.py:517: The name tf.placeholder is deprecated. Please use tf.compat.v1.placeholder instead.\n",
      "\n",
      "W0801 05:54:48.327573 140343816329088 deprecation_wrapper.py:119] From /usr/local/lib/python3.6/dist-packages/keras/backend/tensorflow_backend.py:4138: The name tf.random_uniform is deprecated. Please use tf.random.uniform instead.\n",
      "\n",
      "W0801 05:54:48.365509 140343816329088 deprecation_wrapper.py:119] From /usr/local/lib/python3.6/dist-packages/keras/backend/tensorflow_backend.py:3976: The name tf.nn.max_pool is deprecated. Please use tf.nn.max_pool2d instead.\n",
      "\n",
      "W0801 05:54:48.414939 140343816329088 deprecation_wrapper.py:119] From /usr/local/lib/python3.6/dist-packages/keras/backend/tensorflow_backend.py:133: The name tf.placeholder_with_default is deprecated. Please use tf.compat.v1.placeholder_with_default instead.\n",
      "\n",
      "W0801 05:54:48.428125 140343816329088 deprecation.py:506] From /usr/local/lib/python3.6/dist-packages/keras/backend/tensorflow_backend.py:3445: calling dropout (from tensorflow.python.ops.nn_ops) with keep_prob is deprecated and will be removed in a future version.\n",
      "Instructions for updating:\n",
      "Please use `rate` instead of `keep_prob`. Rate should be set to `rate = 1 - keep_prob`.\n"
     ]
    }
   ],
   "source": [
    "base_network = create_base_network(input_shape) # creating the base network \n",
    "\n",
    "input_a = Input(shape=input_shape) \n",
    "input_b = Input(shape=input_shape)"
   ]
  },
  {
   "cell_type": "code",
   "execution_count": 0,
   "metadata": {
    "colab": {},
    "colab_type": "code",
    "id": "WImmnIVplA8V"
   },
   "outputs": [],
   "source": [
    "'''\n",
    "same base network is shared by tow inputs\n",
    "'''\n",
    "processed_a = base_network(input_a) \n",
    "processed_b = base_network(input_b)"
   ]
  },
  {
   "cell_type": "code",
   "execution_count": 0,
   "metadata": {
    "colab": {},
    "colab_type": "code",
    "id": "rgvn54XMlFql"
   },
   "outputs": [],
   "source": [
    "'''\n",
    "using euclidean distance as the distance measure for finding the similarity\n",
    "'''\n",
    "distance = Lambda(euclidean_distance,\n",
    "                  output_shape=eucl_dist_output_shape)([processed_a, processed_b])"
   ]
  },
  {
   "cell_type": "code",
   "execution_count": 0,
   "metadata": {
    "colab": {},
    "colab_type": "code",
    "id": "eQdCF25PlUcE"
   },
   "outputs": [],
   "source": [
    "model = Model([input_a, input_b], distance)"
   ]
  },
  {
   "cell_type": "code",
   "execution_count": 18,
   "metadata": {
    "colab": {
     "base_uri": "https://localhost:8080/",
     "height": 70
    },
    "colab_type": "code",
    "id": "YcKzKWThlX6R",
    "outputId": "f19b9272-2488-4ea0-f438-aec269236b82"
   },
   "outputs": [
    {
     "name": "stderr",
     "output_type": "stream",
     "text": [
      "W0801 05:54:59.566047 140343816329088 deprecation_wrapper.py:119] From /usr/local/lib/python3.6/dist-packages/keras/optimizers.py:790: The name tf.train.Optimizer is deprecated. Please use tf.compat.v1.train.Optimizer instead.\n",
      "\n"
     ]
    }
   ],
   "source": [
    "rms = RMSprop()\n",
    "model.compile(loss=contrastive_loss, optimizer=rms, metrics=[accuracy])"
   ]
  },
  {
   "cell_type": "code",
   "execution_count": 19,
   "metadata": {
    "colab": {
     "base_uri": "https://localhost:8080/",
     "height": 302
    },
    "colab_type": "code",
    "id": "F8B6g8UNlbMC",
    "outputId": "65d8661e-26a3-4bac-ea50-8899be8544ec"
   },
   "outputs": [
    {
     "name": "stdout",
     "output_type": "stream",
     "text": [
      "__________________________________________________________________________________________________\n",
      "Layer (type)                    Output Shape         Param #     Connected to                     \n",
      "==================================================================================================\n",
      "input_2 (InputLayer)            (None, 28, 28, 1)    0                                            \n",
      "__________________________________________________________________________________________________\n",
      "input_3 (InputLayer)            (None, 28, 28, 1)    0                                            \n",
      "__________________________________________________________________________________________________\n",
      "model_1 (Model)                 (None, 128)          256768      input_2[0][0]                    \n",
      "                                                                 input_3[0][0]                    \n",
      "__________________________________________________________________________________________________\n",
      "lambda_1 (Lambda)               (None, 1)            0           model_1[1][0]                    \n",
      "                                                                 model_1[2][0]                    \n",
      "==================================================================================================\n",
      "Total params: 256,768\n",
      "Trainable params: 256,768\n",
      "Non-trainable params: 0\n",
      "__________________________________________________________________________________________________\n"
     ]
    }
   ],
   "source": [
    "model.summary()"
   ]
  },
  {
   "cell_type": "code",
   "execution_count": 20,
   "metadata": {
    "colab": {
     "base_uri": "https://localhost:8080/",
     "height": 490
    },
    "colab_type": "code",
    "id": "HOBmvb28lpJW",
    "outputId": "2b6a45aa-26e1-4be1-f323-57dca47ba8a5"
   },
   "outputs": [
    {
     "name": "stderr",
     "output_type": "stream",
     "text": [
      "W0801 05:55:06.825398 140343816329088 deprecation.py:323] From /usr/local/lib/python3.6/dist-packages/tensorflow/python/ops/math_grad.py:1250: add_dispatch_support.<locals>.wrapper (from tensorflow.python.ops.array_ops) is deprecated and will be removed in a future version.\n",
      "Instructions for updating:\n",
      "Use tf.where in 2.0, which has the same broadcast rule as np.where\n",
      "W0801 05:55:07.188821 140343816329088 deprecation_wrapper.py:119] From /usr/local/lib/python3.6/dist-packages/keras/backend/tensorflow_backend.py:986: The name tf.assign_add is deprecated. Please use tf.compat.v1.assign_add instead.\n",
      "\n"
     ]
    },
    {
     "name": "stdout",
     "output_type": "stream",
     "text": [
      "Train on 108400 samples, validate on 17820 samples\n",
      "Epoch 1/10\n",
      "108400/108400 [==============================] - 20s 184us/step - loss: 0.0461 - accuracy: 0.9566 - val_loss: 0.0101 - val_accuracy: 0.9886\n",
      "Epoch 2/10\n",
      "108400/108400 [==============================] - 14s 128us/step - loss: 0.0091 - accuracy: 0.9906 - val_loss: 0.0085 - val_accuracy: 0.9902\n",
      "Epoch 3/10\n",
      "108400/108400 [==============================] - 14s 128us/step - loss: 0.0058 - accuracy: 0.9937 - val_loss: 0.0084 - val_accuracy: 0.9901\n",
      "Epoch 4/10\n",
      "108400/108400 [==============================] - 14s 128us/step - loss: 0.0041 - accuracy: 0.9957 - val_loss: 0.0100 - val_accuracy: 0.9878\n",
      "Epoch 5/10\n",
      "108400/108400 [==============================] - 14s 128us/step - loss: 0.0031 - accuracy: 0.9965 - val_loss: 0.0079 - val_accuracy: 0.9907\n",
      "Epoch 6/10\n",
      "108400/108400 [==============================] - 14s 127us/step - loss: 0.0027 - accuracy: 0.9970 - val_loss: 0.0067 - val_accuracy: 0.9925\n",
      "Epoch 7/10\n",
      "108400/108400 [==============================] - 14s 127us/step - loss: 0.0022 - accuracy: 0.9975 - val_loss: 0.0083 - val_accuracy: 0.9901\n",
      "Epoch 8/10\n",
      "108400/108400 [==============================] - 14s 127us/step - loss: 0.0019 - accuracy: 0.9979 - val_loss: 0.0071 - val_accuracy: 0.9920\n",
      "Epoch 9/10\n",
      "108400/108400 [==============================] - 14s 128us/step - loss: 0.0018 - accuracy: 0.9980 - val_loss: 0.0083 - val_accuracy: 0.9898\n",
      "Epoch 10/10\n",
      "108400/108400 [==============================] - 14s 127us/step - loss: 0.0016 - accuracy: 0.9983 - val_loss: 0.0107 - val_accuracy: 0.9871\n"
     ]
    },
    {
     "data": {
      "text/plain": [
       "<keras.callbacks.History at 0x7fa40c4a0cc0>"
      ]
     },
     "execution_count": 20,
     "metadata": {
      "tags": []
     },
     "output_type": "execute_result"
    }
   ],
   "source": [
    "model.fit([tr_pairs[:, 0], tr_pairs[:, 1]], tr_y,\n",
    "          batch_size=128,\n",
    "          epochs=10,\n",
    "          validation_data=([te_pairs[:, 0], te_pairs[:, 1]], te_y))"
   ]
  },
  {
   "cell_type": "code",
   "execution_count": 0,
   "metadata": {
    "colab": {},
    "colab_type": "code",
    "id": "N10tnqz8ZyvN"
   },
   "outputs": [],
   "source": [
    "model.save('MNIST_siamese_model.h5')"
   ]
  },
  {
   "cell_type": "code",
   "execution_count": 0,
   "metadata": {
    "colab": {},
    "colab_type": "code",
    "id": "nZKHdTroZ9kd"
   },
   "outputs": [],
   "source": [
    "from keras.models import load_model\n",
    "M1=load_model('MNIST_siamese_model.h5',custom_objects={'contrastive_loss':contrastive_loss})\n",
    "'''\n",
    "Here the last layer of actual siamese network is removed such that we can visualize the mapping done my siamese network\n",
    "for similar classes and dissimilar classes\n",
    "'''"
   ]
  },
  {
   "cell_type": "code",
   "execution_count": 24,
   "metadata": {
    "colab": {
     "base_uri": "https://localhost:8080/",
     "height": 302
    },
    "colab_type": "code",
    "id": "cdfPrO-ubGq4",
    "outputId": "7e3616e9-077f-44f4-bd81-b7762a7c420a"
   },
   "outputs": [
    {
     "name": "stdout",
     "output_type": "stream",
     "text": [
      "__________________________________________________________________________________________________\n",
      "Layer (type)                    Output Shape         Param #     Connected to                     \n",
      "==================================================================================================\n",
      "input_2 (InputLayer)            (None, 28, 28, 1)    0                                            \n",
      "__________________________________________________________________________________________________\n",
      "input_3 (InputLayer)            (None, 28, 28, 1)    0                                            \n",
      "__________________________________________________________________________________________________\n",
      "model_1 (Model)                 (None, 128)          256768      input_2[0][0]                    \n",
      "                                                                 input_3[0][0]                    \n",
      "__________________________________________________________________________________________________\n",
      "lambda_1 (Lambda)               (None, 1)            0           model_1[1][0]                    \n",
      "                                                                 model_1[2][0]                    \n",
      "==================================================================================================\n",
      "Total params: 256,768\n",
      "Trainable params: 256,768\n",
      "Non-trainable params: 0\n",
      "__________________________________________________________________________________________________\n"
     ]
    }
   ],
   "source": [
    "M1.summary()"
   ]
  },
  {
   "cell_type": "code",
   "execution_count": 25,
   "metadata": {
    "colab": {
     "base_uri": "https://localhost:8080/",
     "height": 252
    },
    "colab_type": "code",
    "id": "edMI0B56a9FP",
    "outputId": "5834cbd2-c693-45c8-a378-7e8439dfe416"
   },
   "outputs": [
    {
     "name": "stdout",
     "output_type": "stream",
     "text": [
      "__________________________________________________________________________________________________\n",
      "Layer (type)                    Output Shape         Param #     Connected to                     \n",
      "==================================================================================================\n",
      "input_2 (InputLayer)            (None, 28, 28, 1)    0                                            \n",
      "__________________________________________________________________________________________________\n",
      "input_3 (InputLayer)            (None, 28, 28, 1)    0                                            \n",
      "__________________________________________________________________________________________________\n",
      "model_1 (Model)                 (None, 128)          256768      input_2[0][0]                    \n",
      "                                                                 input_3[0][0]                    \n",
      "==================================================================================================\n",
      "Total params: 256,768\n",
      "Trainable params: 256,768\n",
      "Non-trainable params: 0\n",
      "__________________________________________________________________________________________________\n"
     ]
    }
   ],
   "source": [
    "M1.layers.pop()\n",
    "M1.summary()"
   ]
  },
  {
   "cell_type": "markdown",
   "metadata": {
    "colab_type": "text",
    "id": "rFNnapSw6w8b"
   },
   "source": [
    "**visulazing the siamese network output**\n",
    "\n",
    "1.   Actual MNIST data images are applied tsne dimensinality reduction algorithm (784 dimension to 2  dimension)\n",
    "2.   Actual MNIST images are applied to trained siamese network and obtained the output. The obtained output is applied tsne algorithm (128 dimension to 2 dimension)\n",
    "\n",
    "These images were scatter plotted below\n",
    "\n",
    "\n",
    "\n"
   ]
  },
  {
   "cell_type": "code",
   "execution_count": 0,
   "metadata": {
    "colab": {},
    "colab_type": "code",
    "id": "dPs7Fwg5bM63"
   },
   "outputs": [],
   "source": [
    "from sklearn.manifold import TSNE\n",
    "import seaborn as sb\n",
    "tsne=TSNE()"
   ]
  },
  {
   "cell_type": "code",
   "execution_count": 0,
   "metadata": {
    "colab": {},
    "colab_type": "code",
    "id": "mPO976eXbdSM"
   },
   "outputs": [],
   "source": [
    "x_train_flat=x_train[:512].reshape(-1,784)\n",
    "tsne_train_output=tsne.fit_transform(x_train_flat)"
   ]
  },
  {
   "cell_type": "code",
   "execution_count": 0,
   "metadata": {
    "colab": {},
    "colab_type": "code",
    "id": "ggbWN3Rrfwxc"
   },
   "outputs": [],
   "source": [
    "import matplotlib.pyplot as plt"
   ]
  },
  {
   "cell_type": "code",
   "execution_count": 65,
   "metadata": {
    "colab": {
     "base_uri": "https://localhost:8080/",
     "height": 420
    },
    "colab_type": "code",
    "id": "jaWNYRZQfcfl",
    "outputId": "860b6617-7fca-4424-d180-b2f54dd92cbf"
   },
   "outputs": [
    {
     "data": {
      "image/png": "[encoded data removed]",
      "text/plain": [
       "<Figure size 576x576 with 1 Axes>"
      ]
     },
     "metadata": {
      "tags": []
     },
     "output_type": "display_data"
    }
   ],
   "source": [
    "palette = np.array(sb.color_palette(\"hls\", 10))\n",
    "f = plt.figure(figsize=(8, 8))\n",
    "ax = plt.subplot(aspect='equal')\n",
    "ax.set_title(\"MNIST dimension reduced image\")\n",
    "sc = ax.scatter(tsne_train_output[:,0], tsne_train_output[:,1], lw=0, s=40,\n",
    "                    c=palette[y_train[:512].astype(np.int)])"
   ]
  },
  {
   "cell_type": "code",
   "execution_count": 0,
   "metadata": {
    "colab": {},
    "colab_type": "code",
    "id": "livzqHtUhfnm"
   },
   "outputs": [],
   "source": [
    "trained_model = Model(inputs=input_a, outputs=processed_a)"
   ]
  },
  {
   "cell_type": "code",
   "execution_count": 0,
   "metadata": {
    "colab": {},
    "colab_type": "code",
    "id": "ktGECMYoiM6b"
   },
   "outputs": [],
   "source": [
    "trained_model.load_weights('MNIST_siamese_model.h5')"
   ]
  },
  {
   "cell_type": "code",
   "execution_count": 0,
   "metadata": {
    "colab": {},
    "colab_type": "code",
    "id": "wxKmHbPsiSYD"
   },
   "outputs": [],
   "source": [
    "pred=np.abs(trained_model.predict(x_train[:512]))\n",
    "tsne1=TSNE()\n",
    "model_tsne=tsne1.fit_transform(pred)"
   ]
  },
  {
   "cell_type": "code",
   "execution_count": 66,
   "metadata": {
    "colab": {
     "base_uri": "https://localhost:8080/",
     "height": 499
    },
    "colab_type": "code",
    "id": "NGxCm3EUiuzX",
    "outputId": "11aef69d-ae22-4da6-b5f9-20566d94dd5e"
   },
   "outputs": [
    {
     "data": {
      "image/png": "[encoded data removed]",
      "text/plain": [
       "<Figure size 576x576 with 1 Axes>"
      ]
     },
     "metadata": {
      "tags": []
     },
     "output_type": "display_data"
    }
   ],
   "source": [
    "palette = np.array(sb.color_palette(\"hls\", 10))\n",
    "f = plt.figure(figsize=(8, 8))\n",
    "ax = plt.subplot(aspect='equal')\n",
    "ax.set_title(\"MNIST dimension reduced after applying into siamese network\")\n",
    "sc = ax.scatter(model_tsne[:,0], model_tsne[:,1], lw=0, s=40,\n",
    "                    c=palette[y_train[:512].astype(np.int)])"
   ]
  },
  {
   "cell_type": "code",
   "execution_count": 71,
   "metadata": {
    "colab": {
     "base_uri": "https://localhost:8080/",
     "height": 34
    },
    "colab_type": "code",
    "id": "BKmsToZW9u3s",
    "outputId": "210a3c28-5dd6-4aa7-e2a7-9d92175d732f"
   },
   "outputs": [
    {
     "data": {
      "text/plain": [
       "array([5, 0, 4, 1, 9, 2, 1, 3, 1, 4], dtype=uint8)"
      ]
     },
     "execution_count": 71,
     "metadata": {
      "tags": []
     },
     "output_type": "execute_result"
    }
   ],
   "source": [
    "y_train[:10]"
   ]
  },
  {
   "cell_type": "markdown",
   "metadata": {
    "colab_type": "text",
    "id": "i92MOE119FbK"
   },
   "source": [
    "**Interpreting the output of siamese network for similar class images**\n",
    "\n",
    "Following there are two images which belongs to same class i.e 1. The images were fed into siamese network and applied tsne algorithm and were scatter plotted. \n",
    "\n",
    "The output shows these two data points are present very close \n"
   ]
  },
  {
   "cell_type": "code",
   "execution_count": 99,
   "metadata": {
    "colab": {
     "base_uri": "https://localhost:8080/",
     "height": 286
    },
    "colab_type": "code",
    "id": "MhdrAKZJ9Avg",
    "outputId": "9cdf87d5-59c7-4dd4-9f95-deb07168ba22"
   },
   "outputs": [
    {
     "data": {
      "text/plain": [
       "<matplotlib.image.AxesImage at 0x7fa3af35f240>"
      ]
     },
     "execution_count": 99,
     "metadata": {
      "tags": []
     },
     "output_type": "execute_result"
    },
    {
     "data": {
      "image/png": "[encoded data removed]",
      "text/plain": [
       "<Figure size 432x288 with 1 Axes>"
      ]
     },
     "metadata": {
      "tags": []
     },
     "output_type": "display_data"
    }
   ],
   "source": [
    "plt.imshow(x_train[6,:].reshape(28,28))"
   ]
  },
  {
   "cell_type": "code",
   "execution_count": 100,
   "metadata": {
    "colab": {
     "base_uri": "https://localhost:8080/",
     "height": 286
    },
    "colab_type": "code",
    "id": "yA4juYSq86u_",
    "outputId": "c029ae2a-87d4-4629-f224-9678354dd6ef"
   },
   "outputs": [
    {
     "data": {
      "text/plain": [
       "<matplotlib.image.AxesImage at 0x7fa3af32ee10>"
      ]
     },
     "execution_count": 100,
     "metadata": {
      "tags": []
     },
     "output_type": "execute_result"
    },
    {
     "data": {
      "image/png": "[encoded data removed]",
      "text/plain": [
       "<Figure size 432x288 with 1 Axes>"
      ]
     },
     "metadata": {
      "tags": []
     },
     "output_type": "display_data"
    }
   ],
   "source": [
    "plt.imshow(x_train[3,:].reshape(28,28))"
   ]
  },
  {
   "cell_type": "code",
   "execution_count": 101,
   "metadata": {
    "colab": {
     "base_uri": "https://localhost:8080/",
     "height": 34
    },
    "colab_type": "code",
    "id": "h6ruo7GRBtqF",
    "outputId": "47fa3114-4e3b-4205-9503-223c71c857bb"
   },
   "outputs": [
    {
     "data": {
      "text/plain": [
       "(2, 128)"
      ]
     },
     "execution_count": 101,
     "metadata": {
      "tags": []
     },
     "output_type": "execute_result"
    }
   ],
   "source": [
    "img=trained_model.predict(x_train[[3,6],:])\n",
    "img.shape"
   ]
  },
  {
   "cell_type": "code",
   "execution_count": 102,
   "metadata": {
    "colab": {
     "base_uri": "https://localhost:8080/",
     "height": 34
    },
    "colab_type": "code",
    "id": "7MviuTbS3sBx",
    "outputId": "e96b7309-1bec-4952-bfbc-695887f31410"
   },
   "outputs": [
    {
     "data": {
      "text/plain": [
       "array([[0.00150249]], dtype=float32)"
      ]
     },
     "execution_count": 102,
     "metadata": {
      "tags": []
     },
     "output_type": "execute_result"
    }
   ],
   "source": [
    "model.predict([x_train[3,:].reshape(1,28,28,1),x_train[6,:].reshape(1,28,28,1)])"
   ]
  },
  {
   "cell_type": "code",
   "execution_count": 103,
   "metadata": {
    "colab": {
     "base_uri": "https://localhost:8080/",
     "height": 34
    },
    "colab_type": "code",
    "id": "ZxOYg0jo4M5e",
    "outputId": "d1dbd516-7fdc-490f-d783-49b183bf9971"
   },
   "outputs": [
    {
     "data": {
      "text/plain": [
       "0.0015024919994175434"
      ]
     },
     "execution_count": 103,
     "metadata": {
      "tags": []
     },
     "output_type": "execute_result"
    }
   ],
   "source": [
    "from scipy.spatial import distance\n",
    "distance.euclidean(img[0,:],img[1,:])"
   ]
  },
  {
   "cell_type": "code",
   "execution_count": 124,
   "metadata": {
    "colab": {
     "base_uri": "https://localhost:8080/",
     "height": 310
    },
    "colab_type": "code",
    "id": "OyiBMyqe3UjF",
    "outputId": "7ef052bd-f45f-44fd-e4e3-7f11497ee568"
   },
   "outputs": [
    {
     "data": {
      "text/plain": [
       "<matplotlib.collections.PathCollection at 0x7fa3af090390>"
      ]
     },
     "execution_count": 124,
     "metadata": {
      "tags": []
     },
     "output_type": "execute_result"
    },
    {
     "data": {
      "image/png": "[encoded data removed]",
      "text/plain": [
       "<Figure size 432x288 with 1 Axes>"
      ]
     },
     "metadata": {
      "tags": []
     },
     "output_type": "display_data"
    }
   ],
   "source": [
    "Ts=TSNE()\n",
    "tester_trans=np.abs(Ts.fit_transform(img))\n",
    "plt.title(\"Similar image plot\")\n",
    "plt.scatter(tester_trans[:,0],tester_trans[:,1])"
   ]
  },
  {
   "cell_type": "code",
   "execution_count": 105,
   "metadata": {
    "colab": {
     "base_uri": "https://localhost:8080/",
     "height": 50
    },
    "colab_type": "code",
    "id": "WQOY5NO0DCk1",
    "outputId": "3d3e3cbe-dc01-4b48-e458-8c2f2a1745e4"
   },
   "outputs": [
    {
     "data": {
      "text/plain": [
       "array([[9655.106 , 1872.7156],\n",
       "       [9655.106 , 1872.7156]], dtype=float32)"
      ]
     },
     "execution_count": 105,
     "metadata": {
      "tags": []
     },
     "output_type": "execute_result"
    }
   ],
   "source": [
    "tester_trans"
   ]
  },
  {
   "cell_type": "markdown",
   "metadata": {
    "colab_type": "text",
    "id": "il0AoNSCAvet"
   },
   "source": [
    "**Interpreting the ouput of siamese network with different class images**\n",
    "\n",
    "Following are the two images that belongs to different classes (i.e 0,1). These images were fed into siamese network and scatter plotted.\n",
    "\n",
    "The plot shows that these image data points were sepreated from each other\n"
   ]
  },
  {
   "cell_type": "code",
   "execution_count": 106,
   "metadata": {
    "colab": {
     "base_uri": "https://localhost:8080/",
     "height": 286
    },
    "colab_type": "code",
    "id": "SK4Ujcv092L6",
    "outputId": "e310d1bf-c99a-4c60-c6d7-1336a4c9ecc3"
   },
   "outputs": [
    {
     "data": {
      "text/plain": [
       "<matplotlib.image.AxesImage at 0x7fa3af26b358>"
      ]
     },
     "execution_count": 106,
     "metadata": {
      "tags": []
     },
     "output_type": "execute_result"
    },
    {
     "data": {
      "image/png": "[encoded data removed]",
      "text/plain": [
       "<Figure size 432x288 with 1 Axes>"
      ]
     },
     "metadata": {
      "tags": []
     },
     "output_type": "display_data"
    }
   ],
   "source": [
    "plt.imshow(x_train[1,:].reshape(28,28))"
   ]
  },
  {
   "cell_type": "code",
   "execution_count": 107,
   "metadata": {
    "colab": {
     "base_uri": "https://localhost:8080/",
     "height": 286
    },
    "colab_type": "code",
    "id": "cnTV9_PWBS1q",
    "outputId": "9448db1f-350f-4807-f1dd-a5e97f074033"
   },
   "outputs": [
    {
     "data": {
      "text/plain": [
       "<matplotlib.image.AxesImage at 0x7fa3af23af28>"
      ]
     },
     "execution_count": 107,
     "metadata": {
      "tags": []
     },
     "output_type": "execute_result"
    },
    {
     "data": {
      "image/png": "[encoded data removed]",
      "text/plain": [
       "<Figure size 432x288 with 1 Axes>"
      ]
     },
     "metadata": {
      "tags": []
     },
     "output_type": "display_data"
    }
   ],
   "source": [
    "plt.imshow(x_train[3,:].reshape(28,28))"
   ]
  },
  {
   "cell_type": "code",
   "execution_count": 118,
   "metadata": {
    "colab": {
     "base_uri": "https://localhost:8080/",
     "height": 34
    },
    "colab_type": "code",
    "id": "f_fDhNdF286i",
    "outputId": "aff518db-4ad7-4cec-ee62-0d2d791a0c79"
   },
   "outputs": [
    {
     "data": {
      "text/plain": [
       "(2, 128)"
      ]
     },
     "execution_count": 118,
     "metadata": {
      "tags": []
     },
     "output_type": "execute_result"
    }
   ],
   "source": [
    "img1=trained_model.predict(x_train[[1,3],:])\n",
    "img1.shape"
   ]
  },
  {
   "cell_type": "code",
   "execution_count": 125,
   "metadata": {
    "colab": {
     "base_uri": "https://localhost:8080/",
     "height": 310
    },
    "colab_type": "code",
    "id": "CvOdEJYsCANs",
    "outputId": "2357220f-a0ec-415f-9510-09c71671414b"
   },
   "outputs": [
    {
     "data": {
      "text/plain": [
       "<matplotlib.collections.PathCollection at 0x7fa3aefe8b38>"
      ]
     },
     "execution_count": 125,
     "metadata": {
      "tags": []
     },
     "output_type": "execute_result"
    },
    {
     "data": {
      "image/png": "[encoded data removed]",
      "text/plain": [
       "<Figure size 432x288 with 1 Axes>"
      ]
     },
     "metadata": {
      "tags": []
     },
     "output_type": "display_data"
    }
   ],
   "source": [
    "Ts1=TSNE()\n",
    "tester_trans1=np.abs(Ts1.fit_transform(img1))\n",
    "plt.title(\"Dissimilar image plot\")\n",
    "plt.scatter(tester_trans1[:,0],tester_trans1[:,1])"
   ]
  },
  {
   "cell_type": "code",
   "execution_count": 120,
   "metadata": {
    "colab": {
     "base_uri": "https://localhost:8080/",
     "height": 50
    },
    "colab_type": "code",
    "id": "STrPeoK_CkK1",
    "outputId": "11563907-a3c9-47d3-af66-d4b7030f6cb4"
   },
   "outputs": [
    {
     "data": {
      "text/plain": [
       "array([[131.2214  ,  61.73695 ],\n",
       "       [131.2219  ,  61.736706]], dtype=float32)"
      ]
     },
     "execution_count": 120,
     "metadata": {
      "tags": []
     },
     "output_type": "execute_result"
    }
   ],
   "source": [
    "tester_trans1"
   ]
  },
  {
   "cell_type": "code",
   "execution_count": 121,
   "metadata": {
    "colab": {
     "base_uri": "https://localhost:8080/",
     "height": 34
    },
    "colab_type": "code",
    "id": "PgHrCTs-CElv",
    "outputId": "fa606b7e-61c6-4c5a-ea0b-b8c110e8becc"
   },
   "outputs": [
    {
     "data": {
      "text/plain": [
       "array([[1.327484]], dtype=float32)"
      ]
     },
     "execution_count": 121,
     "metadata": {
      "tags": []
     },
     "output_type": "execute_result"
    }
   ],
   "source": [
    "model.predict([x_train[1,:].reshape(1,28,28,1),x_train[3,:].reshape(1,28,28,1)])"
   ]
  },
  {
   "cell_type": "code",
   "execution_count": 123,
   "metadata": {
    "colab": {
     "base_uri": "https://localhost:8080/",
     "height": 34
    },
    "colab_type": "code",
    "id": "HXrVCPFkCeRv",
    "outputId": "f26e7c65-b174-475a-caa2-52c562c54dac"
   },
   "outputs": [
    {
     "data": {
      "text/plain": [
       "1.3274840116500854"
      ]
     },
     "execution_count": 123,
     "metadata": {
      "tags": []
     },
     "output_type": "execute_result"
    }
   ],
   "source": [
    "from scipy.spatial import distance\n",
    "distance.euclidean(img1[0,:],img1[1,:])"
   ]
  }
 ],
 "metadata": {
  "accelerator": "GPU",
  "colab": {
   "name": "siamese network.ipynb",
   "provenance": [],
   "version": "0.3.2"
  },
  "kernelspec": {
   "display_name": "Python 3",
   "language": "python",
   "name": "python3"
  },
  "language_info": {
   "codemirror_mode": {
    "name": "ipython",
    "version": 3
   },
   "file_extension": ".py",
   "mimetype": "text/x-python",
   "name": "python",
   "nbconvert_exporter": "python",
   "pygments_lexer": "ipython3",
   "version": "3.6.8"
  }
 },
 "nbformat": 4,
 "nbformat_minor": 1
}
